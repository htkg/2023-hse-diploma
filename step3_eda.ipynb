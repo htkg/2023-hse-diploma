{
 "cells": [
  {
   "cell_type": "code",
   "execution_count": null,
   "metadata": {},
   "outputs": [],
   "source": [
    "import folium\n",
    "from folium.plugins import MarkerCluster\n",
    "\n",
    "# Create a base map centered around Japan\n",
    "japan_map = folium.Map(location=[36.2048, 138.2529], zoom_start=5)\n",
    "\n",
    "# Create a dictionary to store marker clusters per prefecture\n",
    "prefecture_clusters = {}\n",
    "prefecture_stats = {}\n",
    "\n",
    "\n",
    "def get_prefecture(location_data):\n",
    "    for component in location_data['address_components']:\n",
    "        if 'administrative_area_level_1' in component['types']:\n",
    "            return component['long_name']\n",
    "    return None\n",
    "\n",
    "# Iterate through the loaded JSON data and add markers to the map\n",
    "for location in loaded.values():\n",
    "    if location is not None and 'geometry' in location and 'location' in location['geometry']:\n",
    "        latitude = location['geometry']['location']['lat']\n",
    "        longitude = location['geometry']['location']['lng']\n",
    "        name = location['formatted_address']\n",
    "\n",
    "        # Extract the prefecture from the address_components\n",
    "        prefecture = get_prefecture(location)\n",
    "        if prefecture is None:\n",
    "            continue\n",
    "        \n",
    "        if prefecture not in prefecture_stats:\n",
    "            prefecture_stats[prefecture] = 0\n",
    "        prefecture_stats[prefecture] += 1\n",
    "        \n",
    "        # If the prefecture does not already have a marker cluster, create one\n",
    "        if prefecture not in prefecture_clusters:\n",
    "            marker_cluster = MarkerCluster().add_to(japan_map)\n",
    "            prefecture_clusters[prefecture] = marker_cluster\n",
    "\n",
    "        marker = folium.Marker([latitude, longitude], popup=name)\n",
    "        marker.add_to(prefecture_clusters[prefecture])\n",
    "    else:\n",
    "        None\n",
    "\n",
    "japan_map.save(\"japan_map.html\")\n",
    "japan_map"
   ]
  }
 ],
 "metadata": {
  "language_info": {
   "name": "python"
  },
  "orig_nbformat": 4
 },
 "nbformat": 4,
 "nbformat_minor": 2
}
