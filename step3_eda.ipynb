{
 "cells": [
  {
   "attachments": {},
   "cell_type": "markdown",
   "metadata": {},
   "source": [
    "# Exploratory Data Analysis\n",
    "After we have got data from Step 2 (parsing and geoparsing are done), we can now visualize our data"
   ]
  },
  {
   "cell_type": "code",
   "execution_count": 2,
   "metadata": {},
   "outputs": [
    {
     "name": "stdout",
     "output_type": "stream",
     "text": [
      "📄 Loaded src/mappings/2009_loc_map_gmaps_jp.json as JSON | Length: 5336\n",
      "📄 Loaded src/mappings/raw/2009_loc_map_gmaps.json as JSON | Length: 9225\n"
     ]
    }
   ],
   "source": [
    "from core.visualization import plot_map\n",
    "from core.utils import load_json\n",
    "\n",
    "jp_map = load_json('src/mappings/2009_loc_map_gmaps_jp.json')\n",
    "all_map = load_json('src/mappings/raw/2009_loc_map_gmaps.json')"
   ]
  },
  {
   "cell_type": "code",
   "execution_count": null,
   "metadata": {},
   "outputs": [],
   "source": [
    "# plot_map(jp_map)[0]\n",
    "# plot_map(all_map)[0]"
   ]
  }
 ],
 "metadata": {
  "kernelspec": {
   "display_name": "venv",
   "language": "python",
   "name": "python3"
  },
  "language_info": {
   "codemirror_mode": {
    "name": "ipython",
    "version": 3
   },
   "file_extension": ".py",
   "mimetype": "text/x-python",
   "name": "python",
   "nbconvert_exporter": "python",
   "pygments_lexer": "ipython3",
   "version": "3.9.13"
  },
  "orig_nbformat": 4
 },
 "nbformat": 4,
 "nbformat_minor": 2
}
