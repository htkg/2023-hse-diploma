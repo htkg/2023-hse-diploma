{
 "cells": [
  {
   "attachments": {},
   "cell_type": "markdown",
   "metadata": {},
   "source": [
    "# Geocoding Data\n",
    "After we have got data from Step 1, please procceed with making sure that there is one source of truth about location: different locations registered on Twitter users are in the most the same city or prefecture. The task is to union all of them to one."
   ]
  },
  {
   "cell_type": "code",
   "execution_count": 1,
   "metadata": {},
   "outputs": [
    {
     "name": "stdout",
     "output_type": "stream",
     "text": [
      "📅 Converted tweet_date to datetime\n",
      "📊 103519 tweets to process\n",
      "📊 81183 not null locations tweets to process\n",
      "---\n",
      "📊 9473 unique locations to process\n"
     ]
    }
   ],
   "source": [
    "import pandas as pd\n",
    "from core.geocoder import process_locations_gmaps\n",
    "from core.utils import convert_to_datetime\n",
    "import warnings\n",
    "warnings.simplefilter(action='ignore', category=FutureWarning)\n",
    "warnings.simplefilter(action='ignore', category=UserWarning)\n",
    "\n",
    "df = convert_to_datetime(pd.read_excel('./src/data/2009_elections.xlsx'))\n",
    "print(f'📊 {len(df)} tweets to process')\n",
    "\n",
    "location_df = df[df['user_location'].notna()]\n",
    "print(f'📊 {len(location_df)} not null locations tweets to process\\n---')\n",
    "print(f'📊 {len(location_df[\"user_location\"].unique())} unique locations to process')"
   ]
  },
  {
   "cell_type": "code",
   "execution_count": null,
   "metadata": {},
   "outputs": [],
   "source": [
    "location_df['user_location'] = location_df['user_location'].str.strip()\n",
    "location_df['user_location'] = location_df['user_location'].str.lower()\n",
    "location_df['user_location'] = location_df['user_location'].str.replace('iphone: ', '')\n",
    "location_df['user_location'] = location_df['user_location'].str.replace('iphone', '')\n",
    "location_df['user_location'] = location_df['user_location'].str.replace('⇄', '')\n",
    "location_df['user_location'] = location_df['user_location'].str.replace('⇔', '')\n",
    "location_df['user_location'] = location_df['user_location'].str.replace('⇔', '')\n",
    "location_df['user_location'] = location_df['user_location'].str.replace('→', '')\n",
    "location_df['user_location'] = location_df['user_location'].str.strip()\n",
    "location_df = location_df[location_df['user_location'].notna()]\n",
    "len(location_df['user_location'].unique())"
   ]
  },
  {
   "attachments": {},
   "cell_type": "markdown",
   "metadata": {},
   "source": [
    "## Run API calls (warning: billing intensive)"
   ]
  },
  {
   "cell_type": "code",
   "execution_count": null,
   "metadata": {},
   "outputs": [],
   "source": [
    "import json\n",
    "geocoded_output = process_locations_gmaps(location_df) # encoding default convert to uft-8\n",
    "\n",
    "to_export = json.loads(geocoded_output)\n",
    "with open('./src/mappings/2009_loc_map_gmaps.json', 'w') as f:\n",
    "    json.dump(to_export, f, indent=4)"
   ]
  },
  {
   "attachments": {},
   "cell_type": "markdown",
   "metadata": {},
   "source": [
    "## Filtering"
   ]
  },
  {
   "cell_type": "code",
   "execution_count": 3,
   "metadata": {},
   "outputs": [
    {
     "name": "stdout",
     "output_type": "stream",
     "text": [
      "📄 Loaded src/mappings/raw/2009_loc_map_gmaps.json as JSON | Length: 9225\n",
      "📊 5336 filtered by JP geocoded locations\n"
     ]
    }
   ],
   "source": [
    "from core.utils import load_json\n",
    "# Load the JSON data\n",
    "output = load_json('src/mappings/raw/2009_loc_map_gmaps.json')\n",
    "\n",
    "def filter_japan_only(json_data):\n",
    "    filtered_data = {}\n",
    "    for key, value in json_data.items():\n",
    "        if isinstance(value, dict):  # Added check for dictionary type\n",
    "            address_components = value.get(\"address_components\")\n",
    "            if address_components:\n",
    "                is_japan = any(\n",
    "                    item.get(\"short_name\") == \"JP\" and \"country\" in item.get(\"types\")\n",
    "                    for item in address_components\n",
    "                )\n",
    "                if is_japan:\n",
    "                    filtered_data[key] = value\n",
    "    return filtered_data\n",
    "\n",
    "\n",
    "loaded = filter_japan_only(output)\n",
    "print(f'📊 {len(loaded)} filtered by JP geocoded locations')\n",
    "\n",
    "with open('./src/mappings/2009_loc_map_gmaps_jp.json', 'w', encoding='utf-8') as f:\n",
    "    json.dump(loaded, f, indent=4, ensure_ascii=False)"
   ]
  }
 ],
 "metadata": {
  "kernelspec": {
   "display_name": "venv",
   "language": "python",
   "name": "python3"
  },
  "language_info": {
   "codemirror_mode": {
    "name": "ipython",
    "version": 3
   },
   "file_extension": ".py",
   "mimetype": "text/x-python",
   "name": "python",
   "nbconvert_exporter": "python",
   "pygments_lexer": "ipython3",
   "version": "3.9.13"
  },
  "orig_nbformat": 4
 },
 "nbformat": 4,
 "nbformat_minor": 2
}
